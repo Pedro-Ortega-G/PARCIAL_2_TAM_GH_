{
  "nbformat": 4,
  "nbformat_minor": 0,
  "metadata": {
    "colab": {
      "provenance": [],
      "authorship_tag": "ABX9TyORf3KiVUq0Mn3jKNq6JnoT",
      "include_colab_link": true
    },
    "kernelspec": {
      "name": "python3",
      "display_name": "Python 3"
    },
    "language_info": {
      "name": "python"
    }
  },
  "cells": [
    {
      "cell_type": "markdown",
      "metadata": {
        "id": "view-in-github",
        "colab_type": "text"
      },
      "source": [
        "<a href=\"https://colab.research.google.com/github/Pedro-Ortega-G/PARCIAL_2_TAM_GH_/blob/main/PARCIAL_2_TAM_050325_1_GH.ipynb\" target=\"_parent\"><img src=\"https://colab.research.google.com/assets/colab-badge.svg\" alt=\"Open In Colab\"/></a>"
      ]
    },
    {
      "cell_type": "markdown",
      "source": [
        "Preguntas:\n",
        "2.1 Consulte y presente el modelo y problema de optimizaci´on de los siguientes clasificadores (Ver ver cuadernos gu´ia de clasificadores):\n",
        "- Naive?Bayes.GaussianNB\n",
        "- SGDClassifier\n",
        "- LogisticRegression\n",
        "\n",
        "R/ El desarrollo de este punto es expuesto en el archivo adjunto \"desarrollo parcial 2 tam_p2_1.doc\" (https://github.com/Pedro-Ortega-G/PARCIAL_2_TAM/releases/download/A2/desarrollo.parcial.2.tam_280125.docx).\n",
        "\n",
        "\n",
        "2.2 Utilizando un esquema de validaci´on cruzada de 5 folds sobre el conjunto de entrenamiento, compare el rendimiento de los\n",
        "m´etodos del punto 1 sobre la base de datos LFW (ver 6?CVClasificacion?LFW.ipynb) en t´erminos de validaci´on cruzada con\n",
        "GridserachCV, fijando el score del gridsearch en t´erminos del acc y el f1. Justifique los hiperpar´ametros a buscar y la rejilla de\n",
        "valores escogida para cada algoritmo seg´un los modelos estudiados en clase y las respuestas del punto 1.\n",
        "\n",
        "R/\n",
        "A partir del cuaderno guía (\"6_CVClasificacion_LFW.ipynb\") se modifica la celda 4 (usando Gemini, el prompt utilizado se expone\n",
        "en el archivo anexo \"prompt_p2.txt\" https://github.com/Pedro-Ortega-G/PARCIAL_2_TAM/releases/download/A2/prompt_p2.txt) para generar el archivo anexo \"6_CVClasificacion_LFW_p6.ipynb\" (https://github.com/Pedro-Ortega-G/PARCIAL_2_TAM/blob/main/6_CVClasificacion_LFW_p6.ipynb) en el que se aplican\n",
        "simultáneamente los métodos del punto 1.\n",
        "Al observar que el rendimiento del clasificador tipo \"GaussianNB\" no presenta un rendimiento satisfactorio (archivo anexo \"score_gridsearchCV_2.png\" , https://github.com/Pedro-Ortega-G/PARCIAL_2_TAM/releases/download/A2/score_gridsearchCV_2.png)  se decide\n",
        "trabajar individualmente este clasificador; obteniendo los siguientes resultados:\n",
        "\t-se prueba inicialmente con la configuración por default (normalización tipo \"MinMaxScaler\") obteniendo una precisión de la validación\n",
        "\tcruzada de 0.38 y en el conjunto de prueba de 0.40\n",
        "\ttiempo de ejecución: 0s\n",
        "\t-se prueba a configurar el gridsearchCV así:\n",
        "\t\tparam_grid = {'cla__var_smoothing': np.logspace(0,-9, num=100)}\n",
        "\tobteniendo una precisión de la validación cruzada de 0.38 y en el conjunto de prueba de 0.40\n",
        "\ttiempo de ejecución: 36s\n",
        "\t-se prueba a configurar el pipeline cambiando la normalización a \"StandardScaler\" obteniendo una precisión de la validación\n",
        "\tcruzada de 0.38 y en el conjunto de prueba de 0.41\n",
        "\ttiempo de ejecución: 49s\n",
        "\t-se prueba a configurar el pipeline manteniendo la normalización tipo \"StandardScaler\" y añadiendo PCA (Análisis de Componentes Principales)\n",
        "\tobteniendo una precisión de la validación cruzada de 0.69 y en el conjunto de prueba de 0.72 (archivo anexo \"score_gridsearchCV_3.png\" , https://github.com/Pedro-Ortega-G/PARCIAL_2_TAM/releases/download/A2/score_gridsearchCV_3.png )\n",
        "\ttiempo de ejecución: 6m40s\n",
        "\n",
        "Al observar que el rendimiento del clasificador tipo \"LinearDiscriminantAnalysis\" no presenta un rendimiento satisfactorio (archivo anexo \"score_gridsearchCV_2.png\" , https://github.com/Pedro-Ortega-G/PARCIAL_2_TAM/releases/download/A2/score_gridsearchCV_2.png)\n",
        "se decide trabajar individualmente este clasificador; obteniendo los siguientes resultados:\n",
        "\n",
        "\t-se prueba a configurar el gridsearchCV así:\n",
        "\t\tparam_grid = {'cla__solver': ['svd', 'lsqr', 'eigen'],\n",
        "\t\t'cla__shrinkage': [None, 'auto', 0.1, 0.5, 0.9]\n",
        "\t\t}\n",
        "\n",
        "obteniendo una precisión de la validación cruzada de 0.83 y en el conjunto de prueba de 0.86\n",
        "\ttiempo de ejecución: 3m43s\n",
        "\n",
        "Además se observa que en la celda en que se recupera el mejor rendimiento de los modelos, se obtiene 'NaN' en algunos casos, por lo que se\n",
        "decide crear una celda adicional (con ayuda de Gemini) que remplaza 'NaN' por el máximo valor de las variables 'mean_test_score' y 'mean_test_score'.\n",
        "El archivo \"score_gridsearchCV_4.png\" (https://github.com/Pedro-Ortega-G/PARCIAL_2_TAM/releases/download/A2/score_gridsearchCV_4.png) muestra los rendimientos finales obtenidos. El archivo \"6_CVClasificacion_LFW_p5_indi_p5.ipynb\" (https://github.com/Pedro-Ortega-G/PARCIAL_2_TAM/blob/main/6_CVClasificacion_LFW_p5_indi_p5.ipynb) muestra\n",
        "los resultados y las configuraciones usadas finalmente.\n",
        "\n",
        "2.3 Presente una comparaci´on visual en 2D, utilizando PCA y UMAP (ver Cuaderno gu´ia reducci´on de dimensi´on), en donde se\n",
        "muestre el espacio proyectado, colocando en color el valor de la etiqueta original para cada muestra. Para el caso de PCA, grafique\n",
        "los primeros 2 componentes (vectores propios) en formato imagen de entrada.\n",
        "\n",
        "R/\n",
        "A partir del cuaderno guía (\"6_CVClasificacion_LFW.ipynb\") se utiliza Gemini para generar las celdas , (el prompt utilizado se expone\n",
        "en el archivo anexo \"prompt_p3.txt\" , https://github.com/Pedro-Ortega-G/PARCIAL_2_TAM/releases/download/A2/prompt_p3.txt) para generar el archivo anexo \"6_CVClasificacion_LFW_punto3_p1.ipynb\" (https://github.com/Pedro-Ortega-G/PARCIAL_2_TAM/blob/main/6_CVClasificacion_LFW_punto3_p1.ipynb) en el se exponen los resultados.\n",
        "\n"
      ],
      "metadata": {
        "id": "78hr4fsgZxUI"
      }
    },
    {
      "cell_type": "code",
      "execution_count": null,
      "metadata": {
        "id": "ZllY451RZv3d"
      },
      "outputs": [],
      "source": []
    }
  ]
}